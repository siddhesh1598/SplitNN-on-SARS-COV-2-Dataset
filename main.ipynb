{
  "nbformat": 4,
  "nbformat_minor": 0,
  "metadata": {
    "colab": {
      "name": "SPLIT NEURAL NETWORKS ON PYSYFT AND PYTORCH.ipynb",
      "provenance": [],
      "collapsed_sections": []
    },
    "kernelspec": {
      "name": "python387jvsc74a57bd00ebeefa082ec3c85d6bf89ec553af4f3d392dbbb786c9bd6af75578e2ba0e0f2",
      "display_name": "Python 3.8.7 64-bit ('venv': venv)"
    },
    "language_info": {
      "name": "python",
      "version": "3.8.7"
    },
    "accelerator": "GPU"
  },
  "cells": [
    {
      "source": [
        "# Install PySyft and Download SARS-COV-2 Dataset"
      ],
      "cell_type": "markdown",
      "metadata": {}
    },
    {
      "cell_type": "code",
      "metadata": {
        "id": "1z3GD65Xxhoc"
      },
      "source": [
        "! pip install syft==0.2.9"
      ],
      "execution_count": null,
      "outputs": []
    },
    {
      "cell_type": "code",
      "metadata": {
        "colab": {
          "base_uri": "https://localhost:8080/"
        },
        "id": "S-PRZ9els_jn",
        "outputId": "f94db414-9565-4a65-c775-89a497d2e6df"
      },
      "source": [
        "! mkdir ~/.kaggle\n",
        "! cp kaggle.json ~/.kaggle/\n",
        "! chmod 600 ~/.kaggle/kaggle.json"
      ],
      "execution_count": 2,
      "outputs": [
        {
          "output_type": "stream",
          "text": [
            "mkdir: cannot create directory ‘/root/.kaggle’: File exists\n"
          ],
          "name": "stdout"
        }
      ]
    },
    {
      "cell_type": "code",
      "metadata": {
        "colab": {
          "base_uri": "https://localhost:8080/"
        },
        "id": "fGo2mgyxtNE-",
        "outputId": "fa2fe58a-993a-4f49-bfb7-e07b071cfdde"
      },
      "source": [
        "! kaggle datasets download -d plameneduardo/sarscov2-ctscan-dataset"
      ],
      "execution_count": 3,
      "outputs": [
        {
          "output_type": "stream",
          "text": [
            "Downloading sarscov2-ctscan-dataset.zip to /content\n",
            " 89% 205M/230M [00:01<00:00, 103MB/s]\n",
            "100% 230M/230M [00:02<00:00, 115MB/s]\n"
          ],
          "name": "stdout"
        }
      ]
    },
    {
      "cell_type": "code",
      "metadata": {
        "id": "sI-apRALta5l"
      },
      "source": [
        "! unzip sarscov2-ctscan-dataset.zip"
      ],
      "execution_count": null,
      "outputs": []
    },
    {
      "source": [
        "# Implementation"
      ],
      "cell_type": "markdown",
      "metadata": {}
    },
    {
      "cell_type": "code",
      "metadata": {
        "id": "yHN-hF_WyCeV"
      },
      "source": [
        "# import \n",
        "import numpy as np\n",
        "import torch\n",
        "import torchvision\n",
        "import matplotlib.pyplot as plt\n",
        "import torch.nn.functional as F\n",
        "import syft as sy\n",
        "\n",
        "from torch import nn\n",
        "\n",
        "from utils.config import *\n",
        "from utils.utils import *\n",
        "from utils.splitNN import *\n",
        "from utils.generator import *"
      ],
      "execution_count": 1,
      "outputs": []
    },
    {
      "cell_type": "code",
      "metadata": {
        "id": "V5FRaFgWNU1W"
      },
      "source": [
        "# Initilize hook\n",
        "hook = sy.TorchHook(torch)"
      ],
      "execution_count": 2,
      "outputs": []
    },
    {
      "cell_type": "code",
      "metadata": {
        "id": "fN1o6x6OOsi7"
      },
      "source": [
        "# Initilize arguments\n",
        "args = Arguments()\n",
        "\n",
        "use_cuda = not args.no_cuda and torch.cuda.is_available()\n",
        "device = torch.device(\"cuda\" if use_cuda else \"cpu\")\n",
        "\n",
        "torch.manual_seed(args.seed)\n",
        "kwargs = {'num_workers': 1, 'pin_memory': True} if use_cuda else {}"
      ],
      "execution_count": 3,
      "outputs": []
    },
    {
      "source": [
        "# Check working device\n",
        "device"
      ],
      "cell_type": "code",
      "metadata": {
        "colab": {
          "base_uri": "https://localhost:8080/"
        },
        "id": "Q1_LvdtlXjLS",
        "outputId": "8becb2d1-c303-492f-b310-68d7824dcd99"
      },
      "execution_count": null,
      "outputs": []
    },
    {
      "cell_type": "code",
      "metadata": {
        "id": "VhZ72W70O7VH"
      },
      "source": [
        "# Initilize Models and their Optimizers\n",
        "models = splitModels(args)\n",
        "optimizers = splitOptimizers(models, args)"
      ],
      "execution_count": 5,
      "outputs": []
    },
    {
      "cell_type": "code",
      "metadata": {
        "id": "zpxXMjgT0V1z"
      },
      "source": [
        "# Create some workers\n",
        "alice = sy.VirtualWorker(hook, id=\"alice\")\n",
        "bob = sy.VirtualWorker(hook, id=\"bob\")\n",
        "claire = sy.VirtualWorker(hook, id=\"claire\")\n",
        "\n",
        "# Send Model Segments to model locations\n",
        "model_locations = [alice, bob, claire]\n",
        "for model, location in zip(models, model_locations):\n",
        "    model.send(location)"
      ],
      "execution_count": 6,
      "outputs": []
    },
    {
      "cell_type": "code",
      "metadata": {
        "id": "EQ5G0qyT0Xau"
      },
      "source": [
        "# Instantiate a SpliNN class for our models and their optimizers\n",
        "splitNN = SplitNN(models, optimizers)"
      ],
      "execution_count": 7,
      "outputs": []
    },
    {
      "cell_type": "code",
      "metadata": {
        "id": "X40Aqq1zPkxR"
      },
      "source": [
        "# Initialize Dataset Generator\n",
        "dataGen = DatasetLoader(DATA_DIR, args)"
      ],
      "execution_count": 8,
      "outputs": []
    },
    {
      "cell_type": "code",
      "metadata": {
        "id": "tRwiSgeVP8Iq",
        "outputId": "f010f251-1ffc-47bd-c86e-87ceb65a631a",
        "colab": {
          "base_uri": "https://localhost:8080/"
        }
      },
      "source": [
        "# Generate Training and Testing Dataset Loader\n",
        "trainDatasetLoader = dataGen.generateTrainDataset()\n",
        "testDatasetLoader = dataGen.generateTestDataset()"
      ],
      "execution_count": 9,
      "outputs": [
        {
          "output_type": "stream",
          "text": [
            "[INFO] Generating Training Dataset Loader ...\n",
            "[INFO] Total number of images for training dataset: 1984\n",
            "[INFO] Generating Testing Dataset Loader ...\n",
            "[INFO] Total number of images for testing dataset: 497\n"
          ],
          "name": "stdout"
        }
      ]
    },
    {
      "cell_type": "code",
      "metadata": {
        "id": "Bk_KwRUNVX-o",
        "outputId": "b62965df-c1ec-4a9d-fe5e-ee97586c1736",
        "colab": {
          "base_uri": "https://localhost:8080/",
          "height": 162
        }
      },
      "source": [
        "# plot images\n",
        "plotImages(trainDatasetLoader)"
      ],
      "execution_count": 16,
      "outputs": [
        {
          "output_type": "display_data",
          "data": {
            "image/png": "[encoded data removed]",
            "text/plain": [
              "<Figure size 432x288 with 3 Axes>"
            ]
          },
          "metadata": {
            "tags": []
          }
        }
      ]
    },
    {
      "cell_type": "code",
      "metadata": {
        "id": "WN47rNfSZNEq"
      },
      "source": [
        "# Initialize lists to capture train and test loss\n",
        "train_losses = []\n",
        "train_counter = []\n",
        "test_losses = []\n",
        "test_counter = [i*len(trainDatasetLoader.dataset) for i in range(args.epochs + 1)]"
      ],
      "execution_count": 10,
      "outputs": []
    },
    {
      "cell_type": "code",
      "metadata": {
        "id": "5zbP0ESlZ6AE"
      },
      "source": [
        "# train function\n",
        "def train(epoch):\n",
        "\n",
        "    for batch_idx, (images, labels) in enumerate(trainDatasetLoader):\n",
        "        # send data to model's location\n",
        "        images = images.send(models[0].location)\n",
        "        images = images.view(images.shape[0], -1)\n",
        "        labels = labels.send(models[-1].location)\n",
        "\n",
        "        # Zero our grads\n",
        "        splitNN.zero_grads()\n",
        "        # Make a prediction\n",
        "        pred = splitNN.forward(images)\n",
        "        # Calculate loss\n",
        "        criterion = nn.NLLLoss()\n",
        "        loss = criterion(pred, labels)\n",
        "        # Backpropagate\n",
        "        loss.backward()\n",
        "        # Feed Gradients backward through the network\n",
        "        splitNN.backward()\n",
        "        # Update the weights\n",
        "        splitNN.step()\n",
        "\n",
        "        # Get loss value\n",
        "        train_loss = loss.get().item()\n",
        "\n",
        "        if batch_idx % args.log_interval == 0:\n",
        "            # print stats\n",
        "            print('Train Epoch: {}\\t[{}/{} ({:.0f}%)]\\tLoss: {:.6f}'.format(\n",
        "            epoch+1, batch_idx * len(images), len(trainDatasetLoader.dataset),\n",
        "            100. * batch_idx / len(trainDatasetLoader), train_loss))\n",
        "            \n",
        "            # append loss values\n",
        "            train_counter.append(\n",
        "                (batch_idx*args.batch_size) + ((epoch)*len(trainDatasetLoader.dataset)))\n",
        "            train_losses.append(train_loss)"
      ],
      "execution_count": 11,
      "outputs": []
    },
    {
      "cell_type": "code",
      "metadata": {
        "id": "_AQ0G5AjYk1C"
      },
      "source": [
        "# test function\n",
        "def test(epoch):\n",
        "\n",
        "    test_loss = 0\n",
        "    correct = 0\n",
        "\n",
        "    with torch.no_grad():\n",
        "        for images, labels in testDatasetLoader:\n",
        "            # send data to model's location\n",
        "            images = images.send(models[0].location)\n",
        "            images = images.view(images.shape[0], -1)\n",
        "\n",
        "            # generate predictions\n",
        "            output = splitNN.forward(images).get()\n",
        "\n",
        "            # calculate stats\n",
        "            test_loss += F.nll_loss(output, labels, size_average=False).item()\n",
        "            pred = output.data.max(1, keepdim=True)[1]\n",
        "            correct += pred.eq(labels.data.view_as(pred)).sum()\n",
        "\n",
        "        test_loss /= len(testDatasetLoader.dataset)\n",
        "        test_losses.append(test_loss)\n",
        "\n",
        "        # print stats\n",
        "        print('\\nTest Epoch: {}, Avg. loss: {:.4f}, Accuracy: {}/{} ({:.0f}%)\\n'.format(\n",
        "        epoch+1, test_loss, correct, len(testDatasetLoader.dataset),\n",
        "        100. * correct / len(testDatasetLoader.dataset)))"
      ],
      "execution_count": 12,
      "outputs": []
    },
    {
      "cell_type": "code",
      "metadata": {
        "colab": {
          "base_uri": "https://localhost:8080/"
        },
        "id": "M8lFhg96aybA",
        "outputId": "30746e15-4755-4267-9558-3ede914d9bf9"
      },
      "source": [
        "# training\n",
        "test(epoch=-1)\n",
        "for epoch in range(args.epochs):\n",
        "    train_loss = train(epoch)\n",
        "    test(epoch)"
      ],
      "execution_count": 13,
      "outputs": [
        {
          "output_type": "stream",
          "text": [
            "/usr/local/lib/python3.7/dist-packages/torch/nn/_reduction.py:43: UserWarning: size_average and reduce args will be deprecated, please use reduction='sum' instead.\n",
            "  warnings.warn(warning.format(ret))\n"
          ],
          "name": "stderr"
        },
        {
          "output_type": "stream",
          "text": [
            "\n",
            "Test Epoch: 1, Avg. loss: 0.6938, Accuracy: 251/497 (51%)\n",
            "\n",
            "Train Epoch: 1\t[0/1984 (0%)]\tLoss: 0.694470\n",
            "Train Epoch: 1\t[1280/1984 (62%)]\tLoss: 0.681708\n",
            "\n",
            "Test Epoch: 1, Avg. loss: 0.6841, Accuracy: 257/497 (52%)\n",
            "\n",
            "Train Epoch: 2\t[0/1984 (0%)]\tLoss: 0.682156\n",
            "Train Epoch: 2\t[1280/1984 (62%)]\tLoss: 0.673483\n",
            "\n",
            "Test Epoch: 2, Avg. loss: 0.6689, Accuracy: 329/497 (66%)\n",
            "\n",
            "Train Epoch: 3\t[0/1984 (0%)]\tLoss: 0.686858\n",
            "Train Epoch: 3\t[1280/1984 (62%)]\tLoss: 0.657601\n",
            "\n",
            "Test Epoch: 3, Avg. loss: 0.6548, Accuracy: 350/497 (70%)\n",
            "\n",
            "Train Epoch: 4\t[0/1984 (0%)]\tLoss: 0.663381\n",
            "Train Epoch: 4\t[1280/1984 (62%)]\tLoss: 0.646193\n",
            "\n",
            "Test Epoch: 4, Avg. loss: 0.6712, Accuracy: 268/497 (54%)\n",
            "\n",
            "Train Epoch: 5\t[0/1984 (0%)]\tLoss: 0.657150\n",
            "Train Epoch: 5\t[1280/1984 (62%)]\tLoss: 0.641865\n",
            "\n",
            "Test Epoch: 5, Avg. loss: 0.6349, Accuracy: 355/497 (71%)\n",
            "\n",
            "Train Epoch: 6\t[0/1984 (0%)]\tLoss: 0.633402\n",
            "Train Epoch: 6\t[1280/1984 (62%)]\tLoss: 0.638051\n",
            "\n",
            "Test Epoch: 6, Avg. loss: 0.6250, Accuracy: 363/497 (73%)\n",
            "\n",
            "Train Epoch: 7\t[0/1984 (0%)]\tLoss: 0.626118\n",
            "Train Epoch: 7\t[1280/1984 (62%)]\tLoss: 0.635527\n",
            "\n",
            "Test Epoch: 7, Avg. loss: 0.6162, Accuracy: 363/497 (73%)\n",
            "\n",
            "Train Epoch: 8\t[0/1984 (0%)]\tLoss: 0.600510\n",
            "Train Epoch: 8\t[1280/1984 (62%)]\tLoss: 0.611420\n",
            "\n",
            "Test Epoch: 8, Avg. loss: 0.6073, Accuracy: 363/497 (73%)\n",
            "\n",
            "Train Epoch: 9\t[0/1984 (0%)]\tLoss: 0.592677\n",
            "Train Epoch: 9\t[1280/1984 (62%)]\tLoss: 0.629262\n",
            "\n",
            "Test Epoch: 9, Avg. loss: 0.6041, Accuracy: 353/497 (71%)\n",
            "\n",
            "Train Epoch: 10\t[0/1984 (0%)]\tLoss: 0.643180\n",
            "Train Epoch: 10\t[1280/1984 (62%)]\tLoss: 0.636434\n",
            "\n",
            "Test Epoch: 10, Avg. loss: 0.6084, Accuracy: 334/497 (67%)\n",
            "\n",
            "Train Epoch: 11\t[0/1984 (0%)]\tLoss: 0.581242\n",
            "Train Epoch: 11\t[1280/1984 (62%)]\tLoss: 0.647767\n",
            "\n",
            "Test Epoch: 11, Avg. loss: 0.5905, Accuracy: 353/497 (71%)\n",
            "\n",
            "Train Epoch: 12\t[0/1984 (0%)]\tLoss: 0.589455\n",
            "Train Epoch: 12\t[1280/1984 (62%)]\tLoss: 0.598453\n",
            "\n",
            "Test Epoch: 12, Avg. loss: 0.5823, Accuracy: 368/497 (74%)\n",
            "\n",
            "Train Epoch: 13\t[0/1984 (0%)]\tLoss: 0.589164\n",
            "Train Epoch: 13\t[1280/1984 (62%)]\tLoss: 0.590443\n",
            "\n",
            "Test Epoch: 13, Avg. loss: 0.5835, Accuracy: 340/497 (68%)\n",
            "\n",
            "Train Epoch: 14\t[0/1984 (0%)]\tLoss: 0.612644\n",
            "Train Epoch: 14\t[1280/1984 (62%)]\tLoss: 0.538643\n",
            "\n",
            "Test Epoch: 14, Avg. loss: 0.5705, Accuracy: 367/497 (74%)\n",
            "\n",
            "Train Epoch: 15\t[0/1984 (0%)]\tLoss: 0.522591\n",
            "Train Epoch: 15\t[1280/1984 (62%)]\tLoss: 0.569073\n",
            "\n",
            "Test Epoch: 15, Avg. loss: 0.5716, Accuracy: 361/497 (73%)\n",
            "\n",
            "Train Epoch: 16\t[0/1984 (0%)]\tLoss: 0.533999\n",
            "Train Epoch: 16\t[1280/1984 (62%)]\tLoss: 0.588584\n",
            "\n",
            "Test Epoch: 16, Avg. loss: 0.5875, Accuracy: 326/497 (66%)\n",
            "\n",
            "Train Epoch: 17\t[0/1984 (0%)]\tLoss: 0.581801\n",
            "Train Epoch: 17\t[1280/1984 (62%)]\tLoss: 0.542078\n",
            "\n",
            "Test Epoch: 17, Avg. loss: 0.5552, Accuracy: 373/497 (75%)\n",
            "\n",
            "Train Epoch: 18\t[0/1984 (0%)]\tLoss: 0.565938\n",
            "Train Epoch: 18\t[1280/1984 (62%)]\tLoss: 0.580850\n",
            "\n",
            "Test Epoch: 18, Avg. loss: 0.5521, Accuracy: 364/497 (73%)\n",
            "\n",
            "Train Epoch: 19\t[0/1984 (0%)]\tLoss: 0.546020\n",
            "Train Epoch: 19\t[1280/1984 (62%)]\tLoss: 0.507786\n",
            "\n",
            "Test Epoch: 19, Avg. loss: 0.5768, Accuracy: 332/497 (67%)\n",
            "\n",
            "Train Epoch: 20\t[0/1984 (0%)]\tLoss: 0.544759\n",
            "Train Epoch: 20\t[1280/1984 (62%)]\tLoss: 0.552146\n",
            "\n",
            "Test Epoch: 20, Avg. loss: 0.5445, Accuracy: 366/497 (74%)\n",
            "\n",
            "Train Epoch: 21\t[0/1984 (0%)]\tLoss: 0.523315\n",
            "Train Epoch: 21\t[1280/1984 (62%)]\tLoss: 0.546720\n",
            "\n",
            "Test Epoch: 21, Avg. loss: 0.5574, Accuracy: 359/497 (72%)\n",
            "\n",
            "Train Epoch: 22\t[0/1984 (0%)]\tLoss: 0.498525\n",
            "Train Epoch: 22\t[1280/1984 (62%)]\tLoss: 0.512907\n",
            "\n",
            "Test Epoch: 22, Avg. loss: 0.5506, Accuracy: 363/497 (73%)\n",
            "\n",
            "Train Epoch: 23\t[0/1984 (0%)]\tLoss: 0.541560\n",
            "Train Epoch: 23\t[1280/1984 (62%)]\tLoss: 0.524947\n",
            "\n",
            "Test Epoch: 23, Avg. loss: 0.5449, Accuracy: 364/497 (73%)\n",
            "\n",
            "Train Epoch: 24\t[0/1984 (0%)]\tLoss: 0.548006\n",
            "Train Epoch: 24\t[1280/1984 (62%)]\tLoss: 0.567486\n",
            "\n",
            "Test Epoch: 24, Avg. loss: 0.5333, Accuracy: 371/497 (75%)\n",
            "\n",
            "Train Epoch: 25\t[0/1984 (0%)]\tLoss: 0.510856\n",
            "Train Epoch: 25\t[1280/1984 (62%)]\tLoss: 0.536680\n",
            "\n",
            "Test Epoch: 25, Avg. loss: 0.5361, Accuracy: 364/497 (73%)\n",
            "\n",
            "Train Epoch: 26\t[0/1984 (0%)]\tLoss: 0.495916\n",
            "Train Epoch: 26\t[1280/1984 (62%)]\tLoss: 0.530554\n",
            "\n",
            "Test Epoch: 26, Avg. loss: 0.5587, Accuracy: 343/497 (69%)\n",
            "\n",
            "Train Epoch: 27\t[0/1984 (0%)]\tLoss: 0.507397\n",
            "Train Epoch: 27\t[1280/1984 (62%)]\tLoss: 0.530173\n",
            "\n",
            "Test Epoch: 27, Avg. loss: 0.5359, Accuracy: 363/497 (73%)\n",
            "\n",
            "Train Epoch: 28\t[0/1984 (0%)]\tLoss: 0.516700\n",
            "Train Epoch: 28\t[1280/1984 (62%)]\tLoss: 0.539124\n",
            "\n",
            "Test Epoch: 28, Avg. loss: 0.5239, Accuracy: 373/497 (75%)\n",
            "\n",
            "Train Epoch: 29\t[0/1984 (0%)]\tLoss: 0.528814\n",
            "Train Epoch: 29\t[1280/1984 (62%)]\tLoss: 0.552570\n",
            "\n",
            "Test Epoch: 29, Avg. loss: 0.5217, Accuracy: 374/497 (75%)\n",
            "\n",
            "Train Epoch: 30\t[0/1984 (0%)]\tLoss: 0.538480\n",
            "Train Epoch: 30\t[1280/1984 (62%)]\tLoss: 0.486988\n",
            "\n",
            "Test Epoch: 30, Avg. loss: 0.5322, Accuracy: 367/497 (74%)\n",
            "\n",
            "Train Epoch: 31\t[0/1984 (0%)]\tLoss: 0.522694\n",
            "Train Epoch: 31\t[1280/1984 (62%)]\tLoss: 0.539402\n",
            "\n",
            "Test Epoch: 31, Avg. loss: 0.5371, Accuracy: 366/497 (74%)\n",
            "\n",
            "Train Epoch: 32\t[0/1984 (0%)]\tLoss: 0.541928\n",
            "Train Epoch: 32\t[1280/1984 (62%)]\tLoss: 0.521450\n",
            "\n",
            "Test Epoch: 32, Avg. loss: 0.5272, Accuracy: 361/497 (73%)\n",
            "\n",
            "Train Epoch: 33\t[0/1984 (0%)]\tLoss: 0.570193\n",
            "Train Epoch: 33\t[1280/1984 (62%)]\tLoss: 0.528966\n",
            "\n",
            "Test Epoch: 33, Avg. loss: 0.5322, Accuracy: 357/497 (72%)\n",
            "\n",
            "Train Epoch: 34\t[0/1984 (0%)]\tLoss: 0.522664\n",
            "Train Epoch: 34\t[1280/1984 (62%)]\tLoss: 0.541619\n",
            "\n",
            "Test Epoch: 34, Avg. loss: 0.5236, Accuracy: 363/497 (73%)\n",
            "\n",
            "Train Epoch: 35\t[0/1984 (0%)]\tLoss: 0.464050\n",
            "Train Epoch: 35\t[1280/1984 (62%)]\tLoss: 0.518952\n",
            "\n",
            "Test Epoch: 35, Avg. loss: 0.5767, Accuracy: 332/497 (67%)\n",
            "\n",
            "Train Epoch: 36\t[0/1984 (0%)]\tLoss: 0.564013\n",
            "Train Epoch: 36\t[1280/1984 (62%)]\tLoss: 0.511042\n",
            "\n",
            "Test Epoch: 36, Avg. loss: 0.6557, Accuracy: 315/497 (63%)\n",
            "\n",
            "Train Epoch: 37\t[0/1984 (0%)]\tLoss: 0.571271\n",
            "Train Epoch: 37\t[1280/1984 (62%)]\tLoss: 0.556005\n",
            "\n",
            "Test Epoch: 37, Avg. loss: 0.5417, Accuracy: 362/497 (73%)\n",
            "\n",
            "Train Epoch: 38\t[0/1984 (0%)]\tLoss: 0.531183\n",
            "Train Epoch: 38\t[1280/1984 (62%)]\tLoss: 0.506675\n",
            "\n",
            "Test Epoch: 38, Avg. loss: 0.5183, Accuracy: 369/497 (74%)\n",
            "\n",
            "Train Epoch: 39\t[0/1984 (0%)]\tLoss: 0.459053\n",
            "Train Epoch: 39\t[1280/1984 (62%)]\tLoss: 0.441372\n",
            "\n",
            "Test Epoch: 39, Avg. loss: 0.5236, Accuracy: 358/497 (72%)\n",
            "\n",
            "Train Epoch: 40\t[0/1984 (0%)]\tLoss: 0.522356\n",
            "Train Epoch: 40\t[1280/1984 (62%)]\tLoss: 0.515000\n",
            "\n",
            "Test Epoch: 40, Avg. loss: 0.5387, Accuracy: 359/497 (72%)\n",
            "\n",
            "Train Epoch: 41\t[0/1984 (0%)]\tLoss: 0.521424\n",
            "Train Epoch: 41\t[1280/1984 (62%)]\tLoss: 0.537289\n",
            "\n",
            "Test Epoch: 41, Avg. loss: 0.5958, Accuracy: 331/497 (67%)\n",
            "\n",
            "Train Epoch: 42\t[0/1984 (0%)]\tLoss: 0.547644\n",
            "Train Epoch: 42\t[1280/1984 (62%)]\tLoss: 0.566291\n",
            "\n",
            "Test Epoch: 42, Avg. loss: 0.5043, Accuracy: 376/497 (76%)\n",
            "\n",
            "Train Epoch: 43\t[0/1984 (0%)]\tLoss: 0.511110\n",
            "Train Epoch: 43\t[1280/1984 (62%)]\tLoss: 0.485546\n",
            "\n",
            "Test Epoch: 43, Avg. loss: 0.5076, Accuracy: 373/497 (75%)\n",
            "\n",
            "Train Epoch: 44\t[0/1984 (0%)]\tLoss: 0.471273\n",
            "Train Epoch: 44\t[1280/1984 (62%)]\tLoss: 0.480119\n",
            "\n",
            "Test Epoch: 44, Avg. loss: 0.5019, Accuracy: 374/497 (75%)\n",
            "\n",
            "Train Epoch: 45\t[0/1984 (0%)]\tLoss: 0.515592\n",
            "Train Epoch: 45\t[1280/1984 (62%)]\tLoss: 0.478472\n",
            "\n",
            "Test Epoch: 45, Avg. loss: 0.5026, Accuracy: 377/497 (76%)\n",
            "\n",
            "Train Epoch: 46\t[0/1984 (0%)]\tLoss: 0.503642\n",
            "Train Epoch: 46\t[1280/1984 (62%)]\tLoss: 0.620263\n",
            "\n",
            "Test Epoch: 46, Avg. loss: 0.5172, Accuracy: 360/497 (72%)\n",
            "\n",
            "Train Epoch: 47\t[0/1984 (0%)]\tLoss: 0.561591\n",
            "Train Epoch: 47\t[1280/1984 (62%)]\tLoss: 0.551558\n",
            "\n",
            "Test Epoch: 47, Avg. loss: 0.5080, Accuracy: 363/497 (73%)\n",
            "\n",
            "Train Epoch: 48\t[0/1984 (0%)]\tLoss: 0.451957\n",
            "Train Epoch: 48\t[1280/1984 (62%)]\tLoss: 0.487361\n",
            "\n",
            "Test Epoch: 48, Avg. loss: 0.4978, Accuracy: 379/497 (76%)\n",
            "\n",
            "Train Epoch: 49\t[0/1984 (0%)]\tLoss: 0.506401\n",
            "Train Epoch: 49\t[1280/1984 (62%)]\tLoss: 0.437125\n",
            "\n",
            "Test Epoch: 49, Avg. loss: 0.5934, Accuracy: 328/497 (66%)\n",
            "\n",
            "Train Epoch: 50\t[0/1984 (0%)]\tLoss: 0.598263\n",
            "Train Epoch: 50\t[1280/1984 (62%)]\tLoss: 0.476207\n",
            "\n",
            "Test Epoch: 50, Avg. loss: 0.6129, Accuracy: 328/497 (66%)\n",
            "\n"
          ],
          "name": "stdout"
        }
      ]
    },
    {
      "cell_type": "code",
      "metadata": {
        "id": "CGcAi6heVcgn",
        "outputId": "897040a3-bbd2-4dc8-be35-43693ba0f323",
        "colab": {
          "base_uri": "https://localhost:8080/",
          "height": 279
        }
      },
      "source": [
        "# plot train and test loss\n",
        "plotLoss(train_counter, train_losses, \n",
        "    test_counter, test_losses, PLOT_PATH)"
      ],
      "execution_count": 17,
      "outputs": [
        {
          "output_type": "display_data",
          "data": {
            "image/png": "[encoded data removed]",
            "text/plain": [
              "<Figure size 432x288 with 1 Axes>"
            ]
          },
          "metadata": {
            "tags": [],
            "needs_background": "light"
          }
        }
      ]
    }
  ]
}